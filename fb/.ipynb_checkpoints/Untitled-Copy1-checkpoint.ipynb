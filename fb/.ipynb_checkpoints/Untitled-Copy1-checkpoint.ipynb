{
 "cells": [
  {
   "cell_type": "code",
   "execution_count": 80,
   "metadata": {},
   "outputs": [],
   "source": [
    "import pandas as pd\n",
    "import numpy as np\n",
    "import matplotlib.pyplot as plt\n",
    "import seaborn as sns\n",
    "\n",
    "# Setting up Seaborn\n",
    "sns.set()"
   ]
  },
  {
   "cell_type": "code",
   "execution_count": 81,
   "metadata": {},
   "outputs": [],
   "source": [
    "df = pd.read_csv(\"data_clean.csv\")"
   ]
  },
  {
   "cell_type": "code",
   "execution_count": 82,
   "metadata": {},
   "outputs": [],
   "source": [
    "names = {\"Sanju Adhikari\" : \"her\", \"Regmi C. Mahesh\" : \"me\"}"
   ]
  },
  {
   "cell_type": "code",
   "execution_count": 83,
   "metadata": {},
   "outputs": [],
   "source": [
    "df.sender_name = df.sender_name.map(names)"
   ]
  },
  {
   "cell_type": "code",
   "execution_count": 84,
   "metadata": {},
   "outputs": [],
   "source": [
    "df.sender_name = df.sender_name.astype('category')"
   ]
  },
  {
   "cell_type": "code",
   "execution_count": 85,
   "metadata": {},
   "outputs": [
    {
     "name": "stdout",
     "output_type": "stream",
     "text": [
      "<class 'pandas.core.frame.DataFrame'>\n",
      "RangeIndex: 8146 entries, 0 to 8145\n",
      "Data columns (total 2 columns):\n",
      " #   Column       Non-Null Count  Dtype   \n",
      "---  ------       --------------  -----   \n",
      " 0   sender_name  8146 non-null   category\n",
      " 1   content      8146 non-null   object  \n",
      "dtypes: category(1), object(1)\n",
      "memory usage: 71.8+ KB\n"
     ]
    }
   ],
   "source": [
    "df.info()"
   ]
  },
  {
   "cell_type": "code",
   "execution_count": 86,
   "metadata": {},
   "outputs": [],
   "source": [
    "df['length'] = df.content.str.len()"
   ]
  },
  {
   "cell_type": "code",
   "execution_count": 87,
   "metadata": {},
   "outputs": [
    {
     "name": "stdout",
     "output_type": "stream",
     "text": [
      "<class 'pandas.core.frame.DataFrame'>\n",
      "RangeIndex: 8146 entries, 0 to 8145\n",
      "Data columns (total 3 columns):\n",
      " #   Column       Non-Null Count  Dtype   \n",
      "---  ------       --------------  -----   \n",
      " 0   sender_name  8146 non-null   category\n",
      " 1   content      8146 non-null   object  \n",
      " 2   length       8146 non-null   int64   \n",
      "dtypes: category(1), int64(1), object(1)\n",
      "memory usage: 135.5+ KB\n"
     ]
    }
   ],
   "source": [
    "df.info()"
   ]
  },
  {
   "cell_type": "code",
   "execution_count": 88,
   "metadata": {},
   "outputs": [
    {
     "data": {
      "text/html": [
       "<div>\n",
       "<style scoped>\n",
       "    .dataframe tbody tr th:only-of-type {\n",
       "        vertical-align: middle;\n",
       "    }\n",
       "\n",
       "    .dataframe tbody tr th {\n",
       "        vertical-align: top;\n",
       "    }\n",
       "\n",
       "    .dataframe thead th {\n",
       "        text-align: right;\n",
       "    }\n",
       "</style>\n",
       "<table border=\"1\" class=\"dataframe\">\n",
       "  <thead>\n",
       "    <tr style=\"text-align: right;\">\n",
       "      <th></th>\n",
       "      <th>sender_name</th>\n",
       "      <th>content</th>\n",
       "      <th>length</th>\n",
       "    </tr>\n",
       "  </thead>\n",
       "  <tbody>\n",
       "    <tr>\n",
       "      <th>0</th>\n",
       "      <td>her</td>\n",
       "      <td>Ho tw</td>\n",
       "      <td>5</td>\n",
       "    </tr>\n",
       "    <tr>\n",
       "      <th>1</th>\n",
       "      <td>me</td>\n",
       "      <td>Ess ho</td>\n",
       "      <td>6</td>\n",
       "    </tr>\n",
       "    <tr>\n",
       "      <th>2</th>\n",
       "      <td>her</td>\n",
       "      <td>Kkkk badar</td>\n",
       "      <td>10</td>\n",
       "    </tr>\n",
       "    <tr>\n",
       "      <th>3</th>\n",
       "      <td>me</td>\n",
       "      <td>Kaile Jane ta room</td>\n",
       "      <td>18</td>\n",
       "    </tr>\n",
       "    <tr>\n",
       "      <th>4</th>\n",
       "      <td>her</td>\n",
       "      <td>Bae</td>\n",
       "      <td>3</td>\n",
       "    </tr>\n",
       "  </tbody>\n",
       "</table>\n",
       "</div>"
      ],
      "text/plain": [
       "  sender_name             content  length\n",
       "0         her               Ho tw       5\n",
       "1          me              Ess ho       6\n",
       "2         her          Kkkk badar      10\n",
       "3          me  Kaile Jane ta room      18\n",
       "4         her                 Bae       3"
      ]
     },
     "execution_count": 88,
     "metadata": {},
     "output_type": "execute_result"
    }
   ],
   "source": [
    "df.head()"
   ]
  },
  {
   "cell_type": "code",
   "execution_count": 89,
   "metadata": {},
   "outputs": [],
   "source": [
    "df[\"cum_sum\"] =df.groupby(\"sender_name\").cumsum()"
   ]
  },
  {
   "cell_type": "code",
   "execution_count": 90,
   "metadata": {},
   "outputs": [
    {
     "data": {
      "text/html": [
       "<div>\n",
       "<style scoped>\n",
       "    .dataframe tbody tr th:only-of-type {\n",
       "        vertical-align: middle;\n",
       "    }\n",
       "\n",
       "    .dataframe tbody tr th {\n",
       "        vertical-align: top;\n",
       "    }\n",
       "\n",
       "    .dataframe thead th {\n",
       "        text-align: right;\n",
       "    }\n",
       "</style>\n",
       "<table border=\"1\" class=\"dataframe\">\n",
       "  <thead>\n",
       "    <tr style=\"text-align: right;\">\n",
       "      <th></th>\n",
       "      <th>sender_name</th>\n",
       "      <th>content</th>\n",
       "      <th>length</th>\n",
       "      <th>cum_sum</th>\n",
       "    </tr>\n",
       "  </thead>\n",
       "  <tbody>\n",
       "    <tr>\n",
       "      <th>0</th>\n",
       "      <td>her</td>\n",
       "      <td>Ho tw</td>\n",
       "      <td>5</td>\n",
       "      <td>5</td>\n",
       "    </tr>\n",
       "    <tr>\n",
       "      <th>1</th>\n",
       "      <td>me</td>\n",
       "      <td>Ess ho</td>\n",
       "      <td>6</td>\n",
       "      <td>6</td>\n",
       "    </tr>\n",
       "    <tr>\n",
       "      <th>2</th>\n",
       "      <td>her</td>\n",
       "      <td>Kkkk badar</td>\n",
       "      <td>10</td>\n",
       "      <td>15</td>\n",
       "    </tr>\n",
       "    <tr>\n",
       "      <th>3</th>\n",
       "      <td>me</td>\n",
       "      <td>Kaile Jane ta room</td>\n",
       "      <td>18</td>\n",
       "      <td>24</td>\n",
       "    </tr>\n",
       "    <tr>\n",
       "      <th>4</th>\n",
       "      <td>her</td>\n",
       "      <td>Bae</td>\n",
       "      <td>3</td>\n",
       "      <td>18</td>\n",
       "    </tr>\n",
       "    <tr>\n",
       "      <th>...</th>\n",
       "      <td>...</td>\n",
       "      <td>...</td>\n",
       "      <td>...</td>\n",
       "      <td>...</td>\n",
       "    </tr>\n",
       "    <tr>\n",
       "      <th>8141</th>\n",
       "      <td>her</td>\n",
       "      <td>Mah sutxu abo</td>\n",
       "      <td>13</td>\n",
       "      <td>65233</td>\n",
       "    </tr>\n",
       "    <tr>\n",
       "      <th>8142</th>\n",
       "      <td>me</td>\n",
       "      <td>hus</td>\n",
       "      <td>3</td>\n",
       "      <td>36905</td>\n",
       "    </tr>\n",
       "    <tr>\n",
       "      <th>8143</th>\n",
       "      <td>me</td>\n",
       "      <td>rati bolamla</td>\n",
       "      <td>12</td>\n",
       "      <td>36917</td>\n",
       "    </tr>\n",
       "    <tr>\n",
       "      <th>8144</th>\n",
       "      <td>her</td>\n",
       "      <td>Ohhhhhhhhhh</td>\n",
       "      <td>11</td>\n",
       "      <td>65244</td>\n",
       "    </tr>\n",
       "    <tr>\n",
       "      <th>8145</th>\n",
       "      <td>me</td>\n",
       "      <td>o bebi</td>\n",
       "      <td>6</td>\n",
       "      <td>36923</td>\n",
       "    </tr>\n",
       "  </tbody>\n",
       "</table>\n",
       "<p>8146 rows × 4 columns</p>\n",
       "</div>"
      ],
      "text/plain": [
       "     sender_name             content  length  cum_sum\n",
       "0            her               Ho tw       5        5\n",
       "1             me              Ess ho       6        6\n",
       "2            her          Kkkk badar      10       15\n",
       "3             me  Kaile Jane ta room      18       24\n",
       "4            her                 Bae       3       18\n",
       "...          ...                 ...     ...      ...\n",
       "8141         her       Mah sutxu abo      13    65233\n",
       "8142          me                 hus       3    36905\n",
       "8143          me        rati bolamla      12    36917\n",
       "8144         her         Ohhhhhhhhhh      11    65244\n",
       "8145          me              o bebi       6    36923\n",
       "\n",
       "[8146 rows x 4 columns]"
      ]
     },
     "execution_count": 90,
     "metadata": {},
     "output_type": "execute_result"
    }
   ],
   "source": [
    "df"
   ]
  },
  {
   "cell_type": "code",
   "execution_count": 91,
   "metadata": {},
   "outputs": [
    {
     "data": {
      "text/html": [
       "<div>\n",
       "<style scoped>\n",
       "    .dataframe tbody tr th:only-of-type {\n",
       "        vertical-align: middle;\n",
       "    }\n",
       "\n",
       "    .dataframe tbody tr th {\n",
       "        vertical-align: top;\n",
       "    }\n",
       "\n",
       "    .dataframe thead th {\n",
       "        text-align: right;\n",
       "    }\n",
       "</style>\n",
       "<table border=\"1\" class=\"dataframe\">\n",
       "  <thead>\n",
       "    <tr style=\"text-align: right;\">\n",
       "      <th></th>\n",
       "      <th>sender_name</th>\n",
       "      <th>content</th>\n",
       "      <th>length</th>\n",
       "      <th>cum_sum</th>\n",
       "    </tr>\n",
       "  </thead>\n",
       "  <tbody>\n",
       "    <tr>\n",
       "      <th>8141</th>\n",
       "      <td>her</td>\n",
       "      <td>Mah sutxu abo</td>\n",
       "      <td>13</td>\n",
       "      <td>65233</td>\n",
       "    </tr>\n",
       "    <tr>\n",
       "      <th>8142</th>\n",
       "      <td>me</td>\n",
       "      <td>hus</td>\n",
       "      <td>3</td>\n",
       "      <td>36905</td>\n",
       "    </tr>\n",
       "    <tr>\n",
       "      <th>8143</th>\n",
       "      <td>me</td>\n",
       "      <td>rati bolamla</td>\n",
       "      <td>12</td>\n",
       "      <td>36917</td>\n",
       "    </tr>\n",
       "    <tr>\n",
       "      <th>8144</th>\n",
       "      <td>her</td>\n",
       "      <td>Ohhhhhhhhhh</td>\n",
       "      <td>11</td>\n",
       "      <td>65244</td>\n",
       "    </tr>\n",
       "    <tr>\n",
       "      <th>8145</th>\n",
       "      <td>me</td>\n",
       "      <td>o bebi</td>\n",
       "      <td>6</td>\n",
       "      <td>36923</td>\n",
       "    </tr>\n",
       "  </tbody>\n",
       "</table>\n",
       "</div>"
      ],
      "text/plain": [
       "     sender_name        content  length  cum_sum\n",
       "8141         her  Mah sutxu abo      13    65233\n",
       "8142          me            hus       3    36905\n",
       "8143          me   rati bolamla      12    36917\n",
       "8144         her    Ohhhhhhhhhh      11    65244\n",
       "8145          me         o bebi       6    36923"
      ]
     },
     "execution_count": 91,
     "metadata": {},
     "output_type": "execute_result"
    }
   ],
   "source": [
    "df.tail()"
   ]
  },
  {
   "cell_type": "code",
   "execution_count": 115,
   "metadata": {},
   "outputs": [
    {
     "data": {
      "image/png": "[encoded data removed]",
      "text/plain": [
       "<Figure size 432x288 with 1 Axes>"
      ]
     },
     "metadata": {},
     "output_type": "display_data"
    }
   ],
   "source": [
    "df.groupby(\"sender_name\")[\"cum_sum\"].plot()\n",
    "\n",
    "plt.xlim(0,1000)\n",
    "plt.legend()\n",
    "\n",
    "plt.yscale(\"log\")\n",
    "plt.title(\"Chat Length Till 1000th Text\")\n",
    "plt.savefig(\"chat-length-till-100.png\", dpi=300)\n",
    "plt.show()"
   ]
  },
  {
   "cell_type": "code",
   "execution_count": 116,
   "metadata": {},
   "outputs": [
    {
     "data": {
      "image/png": "[encoded data removed]",
      "text/plain": [
       "<Figure size 432x288 with 1 Axes>"
      ]
     },
     "metadata": {},
     "output_type": "display_data"
    }
   ],
   "source": [
    "df.groupby(\"sender_name\")[\"cum_sum\"].plot()\n",
    "plt.legend()\n",
    "\n",
    "plt.yscale(\"log\")\n",
    "plt.title(\"Chat Length Till Today Morning\")\n",
    "plt.savefig(\"chat-length-complete.png\", dpi=300)\n",
    "plt.show()"
   ]
  },
  {
   "cell_type": "code",
   "execution_count": 117,
   "metadata": {},
   "outputs": [
    {
     "data": {
      "image/png": "[encoded data removed]",
      "text/plain": [
       "<Figure size 432x288 with 1 Axes>"
      ]
     },
     "metadata": {},
     "output_type": "display_data"
    }
   ],
   "source": [
    "df.groupby(\"sender_name\")[\"length\"].plot()\n",
    "\n",
    "plt.title(\"Our Text Length Over/Time\")\n",
    "plt.ylim(0,250)\n",
    "plt.legend()\n",
    "plt.savefig(\"chat-length-over-time.png\", dpi=300)\n",
    "plt.show()\n",
    "\n"
   ]
  },
  {
   "cell_type": "code",
   "execution_count": 94,
   "metadata": {},
   "outputs": [],
   "source": [
    "from scipy.stats import norm"
   ]
  },
  {
   "cell_type": "code",
   "execution_count": 95,
   "metadata": {},
   "outputs": [],
   "source": [
    "appr_column = df[df[\"length\"] < 100][\"length\"]"
   ]
  },
  {
   "cell_type": "code",
   "execution_count": 118,
   "metadata": {},
   "outputs": [
    {
     "data": {
      "image/png": "[encoded data removed]",
      "text/plain": [
       "<Figure size 432x288 with 1 Axes>"
      ]
     },
     "metadata": {},
     "output_type": "display_data"
    }
   ],
   "source": [
    "sns.distplot(appr_column, bins = 10)\n",
    "plt.savefig(\"chat-length-ditribution.png\", dpi=300)\n",
    "plt.title(\"Text Length Distribution\")\n",
    "plt.show()"
   ]
  },
  {
   "cell_type": "code",
   "execution_count": 107,
   "metadata": {},
   "outputs": [
    {
     "data": {
      "text/html": [
       "<div>\n",
       "<style scoped>\n",
       "    .dataframe tbody tr th:only-of-type {\n",
       "        vertical-align: middle;\n",
       "    }\n",
       "\n",
       "    .dataframe tbody tr th {\n",
       "        vertical-align: top;\n",
       "    }\n",
       "\n",
       "    .dataframe thead th {\n",
       "        text-align: right;\n",
       "    }\n",
       "</style>\n",
       "<table border=\"1\" class=\"dataframe\">\n",
       "  <thead>\n",
       "    <tr style=\"text-align: right;\">\n",
       "      <th></th>\n",
       "      <th>sender_name</th>\n",
       "      <th>content</th>\n",
       "      <th>length</th>\n",
       "      <th>cum_sum</th>\n",
       "    </tr>\n",
       "  </thead>\n",
       "  <tbody>\n",
       "    <tr>\n",
       "      <th>0</th>\n",
       "      <td>her</td>\n",
       "      <td>Ho tw</td>\n",
       "      <td>5</td>\n",
       "      <td>5</td>\n",
       "    </tr>\n",
       "    <tr>\n",
       "      <th>1</th>\n",
       "      <td>me</td>\n",
       "      <td>Ess ho</td>\n",
       "      <td>6</td>\n",
       "      <td>6</td>\n",
       "    </tr>\n",
       "    <tr>\n",
       "      <th>2</th>\n",
       "      <td>her</td>\n",
       "      <td>Kkkk badar</td>\n",
       "      <td>10</td>\n",
       "      <td>15</td>\n",
       "    </tr>\n",
       "    <tr>\n",
       "      <th>3</th>\n",
       "      <td>me</td>\n",
       "      <td>Kaile Jane ta room</td>\n",
       "      <td>18</td>\n",
       "      <td>24</td>\n",
       "    </tr>\n",
       "    <tr>\n",
       "      <th>4</th>\n",
       "      <td>her</td>\n",
       "      <td>Bae</td>\n",
       "      <td>3</td>\n",
       "      <td>18</td>\n",
       "    </tr>\n",
       "  </tbody>\n",
       "</table>\n",
       "</div>"
      ],
      "text/plain": [
       "  sender_name             content  length  cum_sum\n",
       "0         her               Ho tw       5        5\n",
       "1          me              Ess ho       6        6\n",
       "2         her          Kkkk badar      10       15\n",
       "3          me  Kaile Jane ta room      18       24\n",
       "4         her                 Bae       3       18"
      ]
     },
     "execution_count": 107,
     "metadata": {},
     "output_type": "execute_result"
    }
   ],
   "source": [
    "df.head()"
   ]
  },
  {
   "cell_type": "code",
   "execution_count": 119,
   "metadata": {},
   "outputs": [
    {
     "data": {
      "text/html": [
       "<div>\n",
       "<style scoped>\n",
       "    .dataframe tbody tr th:only-of-type {\n",
       "        vertical-align: middle;\n",
       "    }\n",
       "\n",
       "    .dataframe tbody tr th {\n",
       "        vertical-align: top;\n",
       "    }\n",
       "\n",
       "    .dataframe thead th {\n",
       "        text-align: right;\n",
       "    }\n",
       "</style>\n",
       "<table border=\"1\" class=\"dataframe\">\n",
       "  <thead>\n",
       "    <tr style=\"text-align: right;\">\n",
       "      <th></th>\n",
       "      <th>content</th>\n",
       "      <th>length</th>\n",
       "      <th>cum_sum</th>\n",
       "    </tr>\n",
       "    <tr>\n",
       "      <th>sender_name</th>\n",
       "      <th></th>\n",
       "      <th></th>\n",
       "      <th></th>\n",
       "    </tr>\n",
       "  </thead>\n",
       "  <tbody>\n",
       "    <tr>\n",
       "      <th>her</th>\n",
       "      <td>4545</td>\n",
       "      <td>4545</td>\n",
       "      <td>4545</td>\n",
       "    </tr>\n",
       "    <tr>\n",
       "      <th>me</th>\n",
       "      <td>3601</td>\n",
       "      <td>3601</td>\n",
       "      <td>3601</td>\n",
       "    </tr>\n",
       "  </tbody>\n",
       "</table>\n",
       "</div>"
      ],
      "text/plain": [
       "             content  length  cum_sum\n",
       "sender_name                          \n",
       "her             4545    4545     4545\n",
       "me              3601    3601     3601"
      ]
     },
     "execution_count": 119,
     "metadata": {},
     "output_type": "execute_result"
    }
   ],
   "source": [
    "df.groupby(\"sender_name\").count()"
   ]
  },
  {
   "cell_type": "code",
   "execution_count": 124,
   "metadata": {},
   "outputs": [
    {
     "name": "stdout",
     "output_type": "stream",
     "text": [
      "Sop sir haru lai tha vyo ne\n",
      "Malai top garako vanara\n",
      "Ani sop ma mero face ma harara padauxa k\n",
      "Kya odd laxa\n",
      "Bae sunna na\n",
      "Mero haat harauda feri k\n",
      "Mero life ma yauta matra kta yauxa ra hai ani tei sanga bihe hunxa ra\n",
      "But bihe paxi chai dharai maya gardaina ra malai vanda badi family lai maya garxa ra ani family ko nai kura sunxa ra\n",
      "If you fall in love with me I will make sure to destroy you Not just bones but your soul too Torment you and lust over you Start our journey with staying up late an calling it love and drag you down to the dungeons of selfloathing\n",
      "\n",
      "I will start with good morning and good night texts tell you how much your texts make me smile Ill stay on top of your chat list remind you of my existence even when Im not around  when Im ignoring your texts\n",
      "\n",
      "I will take you out for a walk hold your hand intertwine our fingers and caress the back of your palm with my thumb Ill imprint my marks on your hand and if someone else holds your hand in future you will think of this moment You will be living in the present but your thoughts will be focused on the past on me\n",
      "\n",
      "I will wrap you in my arms and promise to make your dreams come true and my words will be such that when the next guy wraps you in his arms and make promises youll push him away Youll think about the fake promises I made Youll not trust him trust me on this\n",
      "\n",
      "We will go out on a date and Ill make it special Promise Flowers candles and everything one can do for their beloved Ill give you every memory a guy can give to his girl on that one date Because Ill love you madly deeply but not truly\n",
      "Ill imprint every minute of our date in your mind so before you relive another date with anyone else youll die a little more than yesterday\n",
      "\n",
      "We will be sitting together enjoying the sunset Ill hold your hand and while you look at the sun sinking beyond the horizon Ill kiss you a sudden surprise and youll kiss me back My hands will be all over your body and well move into a bedroom Ill cover your body with kisses and mark all the corners\n",
      "\n",
      "I will tuck that loose strand behind your ear letting your earring dangle before I bite you below your earlobe   leaving love bite Ill make sure you dont live but you die Because you wanted me to love you And yes I love you\n",
      "Will you still fall in love with me Think again\n",
      "Bae sunna na\n",
      "Saru ko yauta project xa ra hai laptop bata garnu\n",
      "Laptop nai xna\n",
      "Tmi lai yauxa vanna gardey na haii\n",
      "I love the fact you love the way you treat me 3 and you have no reason to be a shameless and dont have to be strong always with me every single moment you make me feel like I am a hyaa and I want you to be controlled with your life I want to be fresh and healthy and healthy you will are a always good thing to do with you in a way you are so good important for me that I can do it to and be a great good man for you to be with my life forever life I want am to to be able able to make get to you for a long long long long life that is a very good important thing to thing and I hope you can find a way to make it to the regular routine\n",
      "Ani usko bf la relatives vaya family ma namane jasto kura gare rako thyo k\n",
      "Soo tei vayara Roi rako the\n",
      "Everybodys talking about heaven like they just cant wait to go\n",
      "Saying how its gonna be so good so beautiful\n",
      "ani budo le chai budi lai tmi sanga bihe garera pachutai rako xu tmlai ta ma kukur ko agadi rakhdinxu bhanexa re\n",
      "Breaking Nepal Government has decided to extend Lockdown Untill Chaitra 25 midnight as cabinet meeting made this decision\n",
      "jhan 5 ota edit gardiyera pathaye thankful hunu xaina aja 10 ota jati pathayera gara re ani bhyaudina bhanda ta pardaina bhanera offline gaidira\n"
     ]
    }
   ],
   "source": [
    "print(*(list(df[df[\"length\"] > 100]['content'])) , sep = \"\\n\")"
   ]
  },
  {
   "cell_type": "code",
   "execution_count": 132,
   "metadata": {},
   "outputs": [
    {
     "data": {
      "text/plain": [
       "1"
      ]
     },
     "execution_count": 132,
     "metadata": {},
     "output_type": "execute_result"
    }
   ],
   "source": [
    "df[\"content\"].str.match(r\"muji\").sum()"
   ]
  },
  {
   "cell_type": "code",
   "execution_count": 139,
   "metadata": {},
   "outputs": [
    {
     "data": {
      "text/plain": [
       "200     vetna man laisakyo malai\n",
       "1150                       vetne\n",
       "1323                       vetne\n",
       "4403                       vetne\n",
       "4977                       vetne\n",
       "5031                       vetne\n",
       "5740                       vetne\n",
       "7633                       vetne\n",
       "Name: content, dtype: object"
      ]
     },
     "execution_count": 139,
     "metadata": {},
     "output_type": "execute_result"
    }
   ],
   "source": [
    "df[df[\"content\"].str.match(r\"vetn\")][\"content\"]"
   ]
  },
  {
   "cell_type": "markdown",
   "metadata": {},
   "source": [
    "I lose :("
   ]
  }
 ],
 "metadata": {
  "kernelspec": {
   "display_name": "Python 3",
   "language": "python",
   "name": "python3"
  },
  "language_info": {
   "codemirror_mode": {
    "name": "ipython",
    "version": 3
   },
   "file_extension": ".py",
   "mimetype": "text/x-python",
   "name": "python",
   "nbconvert_exporter": "python",
   "pygments_lexer": "ipython3",
   "version": "3.7.6"
  }
 },
 "nbformat": 4,
 "nbformat_minor": 4
}
